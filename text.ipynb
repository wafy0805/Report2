{
 "cells": [
  {
   "cell_type": "code",
   "execution_count": null,
   "metadata": {},
   "outputs": [],
   "source": [
    "数据集：Oakland Crime Statistics 2011 to 2016\n",
    "Github地址：https://github.com/wafy0805/Report2"
   ]
  },
  {
   "cell_type": "code",
   "execution_count": 6,
   "metadata": {},
   "outputs": [],
   "source": [
    "import numpy as np\n",
    "import pandas as pd\n",
    "import c\n",
    "import scipy as sp\n",
    "import matplotlib.pyplot as plt\n",
    "import seaborn as sns\n",
    "import json\n",
    "import math\n",
    "import re\n",
    "import sys\n",
    "import os"
   ]
  },
  {
   "cell_type": "markdown",
   "metadata": {},
   "source": [
    "关联规则\n",
    "1.支持度 $$Sup(x)=\\frac{count(X)}{all_data}$$\n",
    "2.执行度 $$conf(X \\to Y)=\\frac{Sup(X \\cup Y}{Sup(X)}$$\n",
    "3.Lift $$lift(X \\to Y)=\\frac{Sup(X \\cup Y}{Sup(X) \\times Sup(Y)}$$\n",
    "4.Jaccard $$Jaccard(X \\to Y) = \\frac{X \\cup Y}{Sup(X) + Sup(Y) - Sup(X \\cup Y)}$$"
   ]
  },
  {
   "cell_type": "code",
   "execution_count": 7,
   "metadata": {},
   "outputs": [],
   "source": [
    "from tqdm import tqdm\n",
    "from progressbar import *\n",
    "\n",
    "class Association(object):\n",
    "    def __init__(self, min_support = 0.1, min_confidence = 0.5):\n",
    "        self.min_support = min_support         # 最小支持度\n",
    "        self.min_confidence = min_confidence   #  最小置信度\n",
    "\n",
    "    def apriori(self, dataset):\n",
    "        C1 = self.create_C1(dataset)\n",
    "        dataset = [set(data) for data in dataset]\n",
    "        L1, support_data = self.scan_D(dataset, C1)\n",
    "        L = [L1]\n",
    "        k = 2\n",
    "        while len(L[k-2]) > 0:\n",
    "            Ck = self.apriori_gen(L[k-2], k)\n",
    "            Lk, support_k = self.scan_D(dataset, Ck)\n",
    "            support_data.update(support_k)\n",
    "            L.append(Lk)\n",
    "            k += 1\n",
    "        return L, support_data\n",
    "\n",
    "    def create_C1(self, dataset):\n",
    "        C1 = []\n",
    "        progress = ProgressBar()\n",
    "        for data in progress(dataset):\n",
    "            for item in data:\n",
    "                if [item] not in C1:\n",
    "                    C1.append([item])\n",
    "        return [frozenset(item) for item in C1]\n",
    "\n",
    "    def scan_D(self, dataset, Ck):\n",
    "        Ck_count = dict()\n",
    "        for data in dataset:\n",
    "            for cand in Ck:\n",
    "                if cand.issubset(data):\n",
    "                    if cand not in Ck_count:\n",
    "                        Ck_count[cand] = 1\n",
    "                    else:\n",
    "                        Ck_count[cand] += 1\n",
    "\n",
    "        num_items = float(len(dataset))\n",
    "        return_list = []\n",
    "        support_data = dict()\n",
    "        for key in Ck_count:\n",
    "            support  = Ck_count[key] / num_items\n",
    "            if support >= self.min_support:\n",
    "                return_list.insert(0, key)\n",
    "            support_data[key] = support\n",
    "        return return_list, support_data\n",
    "\n",
    "    def apriori_gen(self, Lk, k):\n",
    "        return_list = []\n",
    "        len_Lk = len(Lk)\n",
    "        for i in range(len_Lk):\n",
    "            for j in range(i+1, len_Lk):\n",
    "                L1 = list(Lk[i])[:k-2]\n",
    "                L2 = list(Lk[j])[:k-2]\n",
    "                L1.sort()\n",
    "                L2.sort()\n",
    "                if L1 == L2:\n",
    "                    return_list.append(Lk[i] | Lk[j])\n",
    "        return return_list\n",
    "\n",
    "    def generate_rules(self, L, support_data):\n",
    "        big_rules_list = []\n",
    "        for i in range(1, len(L)):\n",
    "            for freq_set in L[i]:\n",
    "                H1 = [frozenset([item]) for item in freq_set]\n",
    "                if i > 1:\n",
    "                    self.rules_from_conseq(freq_set, H1, support_data, big_rules_list)\n",
    "                else:\n",
    "                    self.cal_conf(freq_set, H1, support_data, big_rules_list)\n",
    "        return big_rules_list\n",
    "\n",
    "    def rules_from_conseq(self, freq_set, H, support_data, big_rules_list):\n",
    "        m = len(H[0])\n",
    "        if len(freq_set) > (m+1):\n",
    "            Hmp1 = self.apriori_gen(H, m+1)\n",
    "            Hmp1 = self.cal_conf(freq_set, Hmp1, support_data, big_rules_list)\n",
    "            if len(Hmp1) > 1:\n",
    "                self.rules_from_conseq(freq_set, Hmp1, support_data, big_rules_list)\n",
    "\n",
    "    def cal_conf(self, freq_set, H, support_data, big_rules_list):\n",
    "        prunedH = []\n",
    "        for conseq in H:\n",
    "            sup = support_data[freq_set]\n",
    "            conf = sup / support_data[freq_set - conseq]\n",
    "            lift = conf / support_data[freq_set - conseq]\n",
    "            jaccard = sup / (support_data[freq_set - conseq] + support_data[conseq] - sup)\n",
    "            if conf >= self.min_confidence:\n",
    "                big_rules_list.append((freq_set-conseq, conseq, sup, conf, lift,jaccard))\n",
    "                prunedH.append(conseq)\n",
    "        return prunedH\n"
   ]
  },
  {
   "cell_type": "code",
   "execution_count": 2,
   "metadata": {},
   "outputs": [],
   "source": [
    "class OCS_dataset():\n",
    "    def __init__(self,data_file_path,result_path,feature_list=None):\n",
    "        self.data_file_path = data_file_path\n",
    "        self.feature_list = feature_list\n",
    "        self.result_path = result_path\n",
    "\n",
    "    def set_feature_list(self,feature_list):\n",
    "        self.feature_list = feature_list\n",
    "        \n",
    "    def set_data_file_path(self,data_file_path):\n",
    "        self.data_file_path = data_file_path\n",
    "    \n",
    "    def set_result_path(result_path):\n",
    "        self.result_path = result_path\n",
    "    \n",
    "    def data_read(self):\n",
    "\n",
    "        data2011 = pd.read_csv(self.data_file_path+\"/records-for-2011.csv\", encoding=\"utf-8\")\n",
    "        data2012 = pd.read_csv(self.data_file_path+\"/records-for-2012.csv\", encoding=\"utf-8\")\n",
    "        data2013 = pd.read_csv(self.data_file_path+\"/records-for-2013.csv\", encoding=\"utf-8\")\n",
    "        data2014 = pd.read_csv(self.data_file_path+\"/records-for-2014.csv\", encoding=\"utf-8\")\n",
    "        data2015 = pd.read_csv(self.data_file_path+\"/records-for-2015.csv\", encoding=\"utf-8\")\n",
    "        data2016 = pd.read_csv(self.data_file_path+\"/records-for-2016.csv\", encoding=\"utf-8\")\n",
    "\n",
    "        data2012.rename(columns={\"Location 1\": \"Location\"}, inplace = True)\n",
    "        data2013.rename(columns={\"Location \": \"Location\"}, inplace = True)\n",
    "        data2014.rename(columns={\"Location 1\": \"Location\"}, inplace = True)\n",
    "\n",
    "        order=[\"Agency\", \"Location\", \"Area Id\", \"Beat\", \"Priority\", \n",
    "               \"Incident Type Id\", \"Incident Type Description\", \"Event Number\"]\n",
    "        data2011_2 = data2011[order]; data2012_2 = data2012[order]; data2013_2 = data2013[order]\n",
    "        data2014_2 = data2014[order]; data2015_2 = data2015[order]; data2016_2 = data2016[order]\n",
    "\n",
    "        data_all = pd.concat([data2011_2, data2012_2, data2013_2, data2014_2, data2015_2, data2016_2],\n",
    "                             axis=0)\n",
    "        print(\"合并后的数据集:\"); print(data_all.info())\n",
    "        data_all = data_all.dropna(how='any')\n",
    "\n",
    "        return data_all\n",
    "\n",
    "\n",
    "    def mining(self,min_support = 0.1, min_confidence = 0.5,head_n=None):\n",
    "        out_path = self.result_path\n",
    "        association = Association(min_support=min_support,min_confidence=min_confidence)\n",
    "        data_all = self.data_read()\n",
    "        rows = None\n",
    "        if head_n is None:\n",
    "          rows = data_all.values.tolist()\n",
    "        else:\n",
    "          rows = data_all.head(head_n).values.tolist()\n",
    "\n",
    "        dataset = []\n",
    "        feature_names = [\"Agency\", \"Location\", \"Area Id\", \"Beat\", \"Priority\", \n",
    "                             \"Incident Type Id\", \"Incident Type Description\", \"Event Number\"]\n",
    "        for data_line in rows:\n",
    "            data_set = []\n",
    "            for i, value in enumerate(data_line):\n",
    "                if not value:\n",
    "                    data_set.append((feature_names[i], 'NA'))\n",
    "                else:\n",
    "                    data_set.append((feature_names[i], value))\n",
    "            dataset.append(data_set)\n",
    "        print(\"挖掘开始\")\n",
    "        freq_set, sup_rata = association.apriori(dataset)\n",
    "        sup_rata_out = sorted(sup_rata.items(), key=lambda d: d[1], reverse=True)\n",
    "        strong_rules_list = association.generate_rules(freq_set, sup_rata)\n",
    "        strong_rules_list = sorted(strong_rules_list, key=lambda x: x[3], reverse=True)\n",
    "        print(\"挖掘完成！\")\n",
    "        freq_set_file = open(os.path.join(out_path, 'fterms.json'), 'w')\n",
    "        for (key, value) in sup_rata_out:\n",
    "            result_dict = {'set': None, 'sup': None}\n",
    "            set_result = list(key)\n",
    "            sup_result = value\n",
    "            if sup_result < association.min_support:\n",
    "                continue\n",
    "            result_dict['set'] = set_result\n",
    "            result_dict['sup'] = sup_result\n",
    "            json_str = json.dumps(result_dict, ensure_ascii=False)\n",
    "            freq_set_file.write(json_str + '\\n')\n",
    "        freq_set_file.close()\n",
    "        rules_file = open(os.path.join(out_path, 'rules.json'), 'w')\n",
    "        for result in strong_rules_list:\n",
    "            result_dict = {'X_set': None, 'Y_set': None, 'sup': None, 'conf': None, 'lift': None, 'jaccard': None}\n",
    "            X_set, Y_set, sup, conf, lift, jaccard = result\n",
    "            result_dict['X_set'] = list(X_set)\n",
    "            result_dict['Y_set'] = list(Y_set)\n",
    "            result_dict['sup'] = sup\n",
    "            result_dict['conf'] = conf\n",
    "            result_dict['lift'] = lift\n",
    "            result_dict['jaccard'] = jaccard\n",
    "\n",
    "            json_str = json.dumps(result_dict, ensure_ascii=False)\n",
    "            rules_file.write(json_str + '\\n')\n",
    "        rules_file.close()\n",
    "        print(\"结果存储完成！\")"
   ]
  },
  {
   "cell_type": "code",
   "execution_count": 13,
   "metadata": {
    "scrolled": true
   },
   "outputs": [
    {
     "name": "stdout",
     "output_type": "stream",
     "text": [
      "合并后的数据集:\n",
      "<class 'pandas.core.frame.DataFrame'>\n",
      "Int64Index: 1046388 entries, 0 to 110827\n",
      "Data columns (total 8 columns):\n",
      "Agency                       1046384 non-null object\n",
      "Location                     1046276 non-null object\n",
      "Area Id                      864023 non-null object\n",
      "Beat                         1040583 non-null object\n",
      "Priority                     1046384 non-null float64\n",
      "Incident Type Id             1046384 non-null object\n",
      "Incident Type Description    1045996 non-null object\n",
      "Event Number                 1046384 non-null object\n",
      "dtypes: float64(1), object(7)\n",
      "memory usage: 71.8+ MB\n",
      "None\n",
      "挖掘开始\n"
     ]
    },
    {
     "name": "stderr",
     "output_type": "stream",
     "text": [
      "100% |########################################################################|\n"
     ]
    },
    {
     "name": "stdout",
     "output_type": "stream",
     "text": [
      "挖掘完成！\n",
      "结果存储完成！\n"
     ]
    }
   ],
   "source": [
    "ocs = OCS_dataset(data_file_path=\"Desktop/archive\",result_path=\"Desktop/ocs_result\")\n",
    "ocs.mining(min_support = 0.1, min_confidence = 0.5,head_n=50000)"
   ]
  },
  {
   "cell_type": "markdown",
   "metadata": {},
   "source": [
    "频繁项集\n",
    "\n",
    "将频繁项集按照支持度由大到小排序，结果如下：\n",
    "\n",
    "挖掘结果分析"
   ]
  },
  {
   "cell_type": "code",
   "execution_count": 10,
   "metadata": {},
   "outputs": [
    {
     "data": {
      "text/plain": [
       "[{'set': [['Agency', 'OP']], 'sup': 1.0},\n",
       " {'set': [['Priority', 2.0]], 'sup': 0.81442},\n",
       " {'set': [['Agency', 'OP'], ['Priority', 2.0]], 'sup': 0.81442},\n",
       " {'set': [['Area Id', 1.0]], 'sup': 0.35754},\n",
       " {'set': [['Agency', 'OP'], ['Area Id', 1.0]], 'sup': 0.35754},\n",
       " {'set': [['Area Id', 3.0]], 'sup': 0.35092},\n",
       " {'set': [['Agency', 'OP'], ['Area Id', 3.0]], 'sup': 0.35092},\n",
       " {'set': [['Priority', 2.0], ['Area Id', 1.0]], 'sup': 0.29566},\n",
       " {'set': [['Agency', 'OP'], ['Priority', 2.0], ['Area Id', 1.0]],\n",
       "  'sup': 0.29566},\n",
       " {'set': [['Area Id', 2.0]], 'sup': 0.29154},\n",
       " {'set': [['Area Id', 2.0], ['Agency', 'OP']], 'sup': 0.29154},\n",
       " {'set': [['Priority', 2.0], ['Area Id', 3.0]], 'sup': 0.27902},\n",
       " {'set': [['Agency', 'OP'], ['Priority', 2.0], ['Area Id', 3.0]],\n",
       "  'sup': 0.27902},\n",
       " {'set': [['Area Id', 2.0], ['Priority', 2.0]], 'sup': 0.23974},\n",
       " {'set': [['Area Id', 2.0], ['Agency', 'OP'], ['Priority', 2.0]],\n",
       "  'sup': 0.23974},\n",
       " {'set': [['Priority', 1.0]], 'sup': 0.18556},\n",
       " {'set': [['Agency', 'OP'], ['Priority', 1.0]], 'sup': 0.18556}]"
      ]
     },
     "execution_count": 10,
     "metadata": {},
     "output_type": "execute_result"
    }
   ],
   "source": [
    "freq"
   ]
  },
  {
   "cell_type": "code",
   "execution_count": null,
   "metadata": {},
   "outputs": [],
   "source": [
    "关联规则\n",
    "\n",
    "将关联规则按照置信度由大到小排序，结果如下。 分析可知，Ared Id的置信度最高，说明该地区犯罪事实出现最多，而且Area Id与Priority的关联度较高。\n"
   ]
  },
  {
   "cell_type": "code",
   "execution_count": 14,
   "metadata": {
    "scrolled": true
   },
   "outputs": [
    {
     "data": {
      "text/plain": [
       "[{'X_set': [['Area Id', 3.0]],\n",
       "  'Y_set': [['Agency', 'OP']],\n",
       "  'sup': 0.35092,\n",
       "  'conf': 1.0,\n",
       "  'lift': 2.8496523424142253,\n",
       "  'jaccard': 0.35092000000000007},\n",
       " {'X_set': [['Area Id', 2.0]],\n",
       "  'Y_set': [['Agency', 'OP']],\n",
       "  'sup': 0.29154,\n",
       "  'conf': 1.0,\n",
       "  'lift': 3.4300610550867803,\n",
       "  'jaccard': 0.2915400000000001},\n",
       " {'X_set': [['Priority', 2.0]],\n",
       "  'Y_set': [['Agency', 'OP']],\n",
       "  'sup': 0.81442,\n",
       "  'conf': 1.0,\n",
       "  'lift': 1.2278676849782666,\n",
       "  'jaccard': 0.81442},\n",
       " {'X_set': [['Area Id', 1.0]],\n",
       "  'Y_set': [['Agency', 'OP']],\n",
       "  'sup': 0.35754,\n",
       "  'conf': 1.0,\n",
       "  'lift': 2.796889858477373,\n",
       "  'jaccard': 0.35754},\n",
       " {'X_set': [['Priority', 1.0]],\n",
       "  'Y_set': [['Agency', 'OP']],\n",
       "  'sup': 0.18556,\n",
       "  'conf': 1.0,\n",
       "  'lift': 5.389092476826902,\n",
       "  'jaccard': 0.18556},\n",
       " {'X_set': [['Area Id', 1.0]],\n",
       "  'Y_set': [['Priority', 2.0]],\n",
       "  'sup': 0.29566,\n",
       "  'conf': 0.82692845555742,\n",
       "  'lift': 2.312827811034905,\n",
       "  'jaccard': 0.33739586899463647},\n",
       " {'X_set': [['Area Id', 1.0]],\n",
       "  'Y_set': [['Agency', 'OP'], ['Priority', 2.0]],\n",
       "  'sup': 0.29566,\n",
       "  'conf': 0.82692845555742,\n",
       "  'lift': 2.312827811034905,\n",
       "  'jaccard': 0.33739586899463647},\n",
       " {'X_set': [['Area Id', 2.0]],\n",
       "  'Y_set': [['Priority', 2.0]],\n",
       "  'sup': 0.23974,\n",
       "  'conf': 0.8223228373465047,\n",
       "  'lift': 2.8206175390907067,\n",
       "  'jaccard': 0.2767657177160537},\n",
       " {'X_set': [['Area Id', 2.0]],\n",
       "  'Y_set': [['Agency', 'OP'], ['Priority', 2.0]],\n",
       "  'sup': 0.23974,\n",
       "  'conf': 0.8223228373465047,\n",
       "  'lift': 2.8206175390907067,\n",
       "  'jaccard': 0.2767657177160537},\n",
       " {'X_set': [['Agency', 'OP']],\n",
       "  'Y_set': [['Priority', 2.0]],\n",
       "  'sup': 0.81442,\n",
       "  'conf': 0.81442,\n",
       "  'lift': 0.81442,\n",
       "  'jaccard': 0.81442},\n",
       " {'X_set': [['Area Id', 3.0]],\n",
       "  'Y_set': [['Priority', 2.0]],\n",
       "  'sup': 0.27902,\n",
       "  'conf': 0.7951099965804171,\n",
       "  'lift': 2.2657870642323523,\n",
       "  'jaccard': 0.3148072930769925},\n",
       " {'X_set': [['Area Id', 3.0]],\n",
       "  'Y_set': [['Agency', 'OP'], ['Priority', 2.0]],\n",
       "  'sup': 0.27902,\n",
       "  'conf': 0.7951099965804171,\n",
       "  'lift': 2.2657870642323523,\n",
       "  'jaccard': 0.3148072930769925}]"
      ]
     },
     "execution_count": 14,
     "metadata": {},
     "output_type": "execute_result"
    }
   ],
   "source": [
    "rules"
   ]
  },
  {
   "cell_type": "markdown",
   "metadata": {},
   "source": [
    "结果可视化"
   ]
  },
  {
   "cell_type": "code",
   "execution_count": 12,
   "metadata": {},
   "outputs": [
    {
     "data": {
      "image/png": "[encoded data removed]",
      "text/plain": [
       "<Figure size 432x288 with 1 Axes>"
      ]
     },
     "metadata": {
      "needs_background": "light"
     },
     "output_type": "display_data"
    },
    {
     "data": {
      "image/png": "[encoded data removed]",
      "text/plain": [
       "<Figure size 432x288 with 1 Axes>"
      ]
     },
     "metadata": {
      "needs_background": "light"
     },
     "output_type": "display_data"
    }
   ],
   "source": [
    "with open(\"Desktop/ocs_result/fterms.json\") as f1:\n",
    "  freq = [json.loads(each) for each in f1.readlines()]\n",
    "  freq_sup = [each[\"sup\"] for each in freq]\n",
    "  plt.figure()\n",
    "  plt.title(\"Frequent item\")\n",
    "  plt.boxplot(freq_sup)\n",
    "  plt.show()\n",
    "\n",
    "with open(\"Desktop/ocs_result/rules.json\") as f2:\n",
    "  rules = [json.loads(each) for each in f2.readlines()]\n",
    "  rules_sup = [each[\"sup\"] for each in rules]\n",
    "  rules_conf = [each[\"conf\"] for each in rules]\n",
    "  fig=plt.figure(\"rule\")\n",
    "  ax=fig.add_axes([0.1,0.1,0.8,0.8])\n",
    "  ax.set_title(\"Rules\")\n",
    "  ax.scatter(rules_sup, rules_conf, marker='o', color='green')\n",
    "  ax.set_xlabel(\"Support\")\n",
    "  ax.set_ylabel(\"Confidence\")\n",
    "  plt.show()"
   ]
  }
 ],
 "metadata": {
  "kernelspec": {
   "display_name": "Python 3",
   "language": "python",
   "name": "python3"
  },
  "language_info": {
   "codemirror_mode": {
    "name": "ipython",
    "version": 3
   },
   "file_extension": ".py",
   "mimetype": "text/x-python",
   "name": "python",
   "nbconvert_exporter": "python",
   "pygments_lexer": "ipython3",
   "version": "3.7.0"
  }
 },
 "nbformat": 4,
 "nbformat_minor": 2
}
